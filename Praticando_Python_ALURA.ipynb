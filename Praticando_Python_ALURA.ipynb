{
  "nbformat": 4,
  "nbformat_minor": 0,
  "metadata": {
    "colab": {
      "provenance": [],
      "authorship_tag": "ABX9TyODn+LdCFXAV6OnurQjNIkj",
      "include_colab_link": true
    },
    "kernelspec": {
      "name": "python3",
      "display_name": "Python 3"
    },
    "language_info": {
      "name": "python"
    }
  },
  "cells": [
    {
      "cell_type": "markdown",
      "metadata": {
        "id": "view-in-github",
        "colab_type": "text"
      },
      "source": [
        "<a href=\"https://colab.research.google.com/github/FelipeAGCosta/PythonBegineerExercices/blob/main/Praticando_Python_ALURA.ipynb\" target=\"_parent\"><img src=\"https://colab.research.google.com/assets/colab-badge.svg\" alt=\"Open In Colab\"/></a>"
      ]
    },
    {
      "cell_type": "code",
      "execution_count": null,
      "metadata": {
        "colab": {
          "base_uri": "https://localhost:8080/"
        },
        "id": "PnfJkgAk9okD",
        "outputId": "3c20d97b-5f3d-44b7-c77d-8b8203d7ae1a"
      },
      "outputs": [
        {
          "name": "stdout",
          "output_type": "stream",
          "text": [
            "Digite a quantidade de macas vendidas: 9\n",
            "Digite a quantidade de bananas vendidas: 10\n"
          ]
        }
      ],
      "source": [
        "macas = int(input(\"Digite a quantidade de macas vendidas: \"))\n",
        "bananas = int(input(\"Digite a quantidade de bananas vendidas: \"))"
      ]
    },
    {
      "cell_type": "code",
      "source": [
        "if macas > bananas:\n",
        "  print(\"As maçãs tiveram mais vendas.\")\n",
        "\n",
        "elif bananas > macas:\n",
        "  print(\"As bananas tiveram mais vendas\")\n",
        "\n",
        "else:\n",
        "  print(\"A quantidade de ambas as frutas foram iguais\")"
      ],
      "metadata": {
        "colab": {
          "base_uri": "https://localhost:8080/"
        },
        "id": "4XpaxbeX-Oxb",
        "outputId": "a2ef7d9c-ad8f-4e77-a4a5-8d3ceeb3bd12"
      },
      "execution_count": null,
      "outputs": [
        {
          "output_type": "stream",
          "name": "stdout",
          "text": [
            "As bananas tiveram mais vendas\n"
          ]
        }
      ]
    },
    {
      "cell_type": "code",
      "source": [
        "Atividade_A = int(input(\"Digite os dias utilizados para realizar a atividade A: \"))\n",
        "Atividade_B = int(input(\"Digite os dias utilizados para realizar a atividade B: \"))\n",
        "Atividade_C = int(input(\"Digite os dias utilizados para realizar a atividade C: \"))\n",
        "\n"
      ],
      "metadata": {
        "colab": {
          "base_uri": "https://localhost:8080/"
        },
        "id": "0YSjRiFk-8Iv",
        "outputId": "2f307ea5-6187-402c-ff88-a4f28b23ff4f"
      },
      "execution_count": null,
      "outputs": [
        {
          "name": "stdout",
          "output_type": "stream",
          "text": [
            "Digite os dias utilizados para realizar a atividade A: -4\n",
            "Digite os dias utilizados para realizar a atividade B: 2\n",
            "Digite os dias utilizados para realizar a atividade C: 9\n"
          ]
        }
      ]
    },
    {
      "cell_type": "code",
      "source": [
        "if (Atividade_A > 0 and Atividade_B > 0 and Atividade_C > 0):\n",
        "  tempo_total = Atividade_A + Atividade_B + Atividade_C\n",
        "  print(f\"O tempo total do projeto é {tempo_total} dias\")\n",
        "\n",
        "else:\n",
        "  print(\"Erro: Pois os dias não podem ser negativos\")"
      ],
      "metadata": {
        "colab": {
          "base_uri": "https://localhost:8080/"
        },
        "id": "ue3OHzco_Whw",
        "outputId": "32e5d32f-c0c6-49a0-fbe1-70d012933b21"
      },
      "execution_count": null,
      "outputs": [
        {
          "output_type": "stream",
          "name": "stdout",
          "text": [
            "Erro: Pois os dias não podem ser negativos\n"
          ]
        }
      ]
    },
    {
      "cell_type": "code",
      "source": [
        "temperatura_atual = int(input(\"Digite a temperatura atual: \"))\n"
      ],
      "metadata": {
        "colab": {
          "base_uri": "https://localhost:8080/"
        },
        "id": "ETBwIr6SAJ0u",
        "outputId": "a0709b8a-95f2-48f2-9e3a-76984170e978"
      },
      "execution_count": null,
      "outputs": [
        {
          "name": "stdout",
          "output_type": "stream",
          "text": [
            "Digite a temperatura atual: 24\n"
          ]
        }
      ]
    },
    {
      "cell_type": "code",
      "source": [
        "if temperatura_atual <= 25:\n",
        "  print(\"Temperatura está dentro do ideal\")\n",
        "\n",
        "else:\n",
        "  print(\"Temperatura está em estado de alerta\")"
      ],
      "metadata": {
        "colab": {
          "base_uri": "https://localhost:8080/"
        },
        "id": "ohNn11a9Ak9J",
        "outputId": "4234cf50-fcd6-4089-8671-083280f7663a"
      },
      "execution_count": null,
      "outputs": [
        {
          "output_type": "stream",
          "name": "stdout",
          "text": [
            "Temperatura está dentro do ideal\n"
          ]
        }
      ]
    },
    {
      "cell_type": "code",
      "source": [
        "peso = float(input(\"Digite o seu peso (kg): \"))\n",
        "altura = float(input(\"Digite a sua altura (m):\"))\n",
        "IMC = peso / (altura * altura)\n",
        "print(f\"Seu IMC é: {IMC: .2f}\")\n"
      ],
      "metadata": {
        "colab": {
          "base_uri": "https://localhost:8080/"
        },
        "id": "C_8ozUG2BQpW",
        "outputId": "07b37713-9f81-44ad-f7a8-66fd45eeb3d3"
      },
      "execution_count": null,
      "outputs": [
        {
          "output_type": "stream",
          "name": "stdout",
          "text": [
            "Digite o seu peso (kg): 87\n",
            "Digite a sua altura (m):1.60\n",
            "Seu IMC é:  33.98\n"
          ]
        }
      ]
    },
    {
      "cell_type": "code",
      "source": [
        "if IMC < 18.5:\n",
        "  print(\"Seu peso está normal\")\n",
        "\n",
        "else:\n",
        "  print(\"Você está acima do peso\")"
      ],
      "metadata": {
        "colab": {
          "base_uri": "https://localhost:8080/"
        },
        "id": "J5frWP2uCxFj",
        "outputId": "18a75af2-55be-4629-845e-2f562eaac55e"
      },
      "execution_count": null,
      "outputs": [
        {
          "output_type": "stream",
          "name": "stdout",
          "text": [
            "Você está acima do peso\n"
          ]
        }
      ]
    },
    {
      "cell_type": "code",
      "source": [
        "gastos = float(input(\"Digite o seu valor gasto (R$): \"))\n",
        "\n",
        "if gastos > 3000:\n",
        "  print(f\"Seu gasto foi de{gastos: .2f} reais, ou seja você passou do limite ideal\")\n",
        "\n",
        "elif gastos == 3000:\n",
        "  print(f\"Seu gasto foi de{gastos: .2f} reais, ou seja, exatamente o limite permitido\")\n",
        "\n",
        "else:\n",
        "  print(f\"Seu gasto de{gastos: .2f}, ou seja, foi dentro do planejado, muito bem\")\n"
      ],
      "metadata": {
        "colab": {
          "base_uri": "https://localhost:8080/"
        },
        "id": "zwKTNlF3DpAH",
        "outputId": "73e47dc7-c847-4584-f606-a95b908be931"
      },
      "execution_count": null,
      "outputs": [
        {
          "output_type": "stream",
          "name": "stdout",
          "text": [
            "Digite o seu valor gasto (R$): 3000\n",
            "Seu gasto foi de 3000.00 reais, ou seja, exatamente o limite permitido\n"
          ]
        }
      ]
    },
    {
      "cell_type": "code",
      "source": [
        "chegada = int(input(\"Digite a hora atual (formato 24 horas): \"))\n",
        "\n",
        "if 8 <= chegada < 18:\n",
        "  print(\"Acesso permitido\")\n",
        "\n",
        "else:\n",
        "  print(\"Acesso negado\")"
      ],
      "metadata": {
        "colab": {
          "base_uri": "https://localhost:8080/"
        },
        "id": "qAVJK_kAGr5W",
        "outputId": "04d73815-39ba-4847-ed34-ca284d1eb3d6"
      },
      "execution_count": null,
      "outputs": [
        {
          "output_type": "stream",
          "name": "stdout",
          "text": [
            "Digite a hora atual (formato 24 horas): 100\n",
            "Acesso negado\n"
          ]
        }
      ]
    },
    {
      "cell_type": "code",
      "source": [
        "nota = float(input(\"Digite a sua nota1: \"))\n",
        "nota2 = float(input(\"Digite a sua nota2: \"))\n",
        "nota3 = float(input(\"Digite a sua nota3: \"))\n",
        "\n",
        "media = (nota + nota2 + nota3) / 3\n",
        "print(f\"A sua média é: {media: .2f}\")\n",
        "\n",
        "if media >= 7:\n",
        "  print(\"Aprovado\")\n",
        "\n",
        "elif 5 <= media < 7:\n",
        "  print(\"Em recuperação\")\n",
        "\n",
        "else:\n",
        "  print(\"Reprovado\")"
      ],
      "metadata": {
        "colab": {
          "base_uri": "https://localhost:8080/"
        },
        "id": "p-cCUPncIXUB",
        "outputId": "2b34cfbb-68d6-4c88-f4d3-fd1b6d7109a0"
      },
      "execution_count": null,
      "outputs": [
        {
          "output_type": "stream",
          "name": "stdout",
          "text": [
            "Digite a sua nota1: 3\n",
            "Digite a sua nota2: 2\n",
            "Digite a sua nota3: 1\n",
            "A sua média é:  2.00\n",
            "Reprovado\n"
          ]
        }
      ]
    },
    {
      "cell_type": "code",
      "source": [
        "distancia = float(input(\"Digite a distância percorrida (km): \"))\n",
        "\n",
        "if distancia <= 100:\n",
        "  print(f\"Você percorreu {distancia: .0f} quilômetros, portanto pagará R$10,00 de pedágio.\")\n",
        "\n",
        "elif 100 < distancia <= 200:\n",
        "  print(f\"Você percorreu {distancia: .0f} quilômetros, portanto pagará R$20,00 de pedágio.\")\n",
        "\n",
        "else:\n",
        "  print(f\"Você percorreu {distancia: .0f} quilômetros, portanto pagará R$30,00 de pedágio.\")"
      ],
      "metadata": {
        "colab": {
          "base_uri": "https://localhost:8080/"
        },
        "id": "Xzdw4cHyJaLq",
        "outputId": "6adb11ef-6b66-43c9-fc61-dc2040768f00"
      },
      "execution_count": null,
      "outputs": [
        {
          "output_type": "stream",
          "name": "stdout",
          "text": [
            "Digite a distância percorrida (km): 250\n",
            "Você percorreu  250 quilômetros, portanto pagará R$30,00 de pedágio.\n"
          ]
        }
      ]
    },
    {
      "cell_type": "code",
      "source": [
        "numero = int(input(\"Digite o seu número inteiro: \"))\n",
        "\n",
        "if numero % 2 == 0:\n",
        "  print(f\"{numero} é par.\")\n",
        "else:\n",
        "  print(f\"{numero} é ímpar.\")"
      ],
      "metadata": {
        "colab": {
          "base_uri": "https://localhost:8080/"
        },
        "id": "bQ3R_3fBKqqi",
        "outputId": "47017a93-ced1-4703-b638-e30feb8e1ff4"
      },
      "execution_count": null,
      "outputs": [
        {
          "output_type": "stream",
          "name": "stdout",
          "text": [
            "Digite o seu número inteiro: 12323\n",
            "12323 é ímpar.\n"
          ]
        }
      ]
    },
    {
      "cell_type": "code",
      "source": [
        "renda_mensal = float(input(\"Digite a sua renda mensal: \"))\n",
        "parcela = float(input(\"Digite em quantas parcelas deseja fazer: \"))\n",
        "\n",
        "if renda_mensal > 2000 and parcela <= 0.3 * renda_mensal:\n",
        "  print(\"Empréstimo aprovado\")\n",
        "\n",
        "elif renda_mensal <= 2000:\n",
        "  print(\"Empréstimo negado: Renda insuficiente\")\n",
        "\n",
        "else:\n",
        "  print(\"Empréstimo negado: parcela acima de 30% da renda\")\n"
      ],
      "metadata": {
        "colab": {
          "base_uri": "https://localhost:8080/"
        },
        "id": "S_UsQFQKLbUS",
        "outputId": "ee6589c5-b9f7-476c-c610-77bd571321a3"
      },
      "execution_count": null,
      "outputs": [
        {
          "output_type": "stream",
          "name": "stdout",
          "text": [
            "Digite a sua renda mensal: 3000\n",
            "Digite em quantas parcelas deseja fazer: 1200\n",
            "Empréstimo negado: parcela acima de 30% da renda\n"
          ]
        }
      ]
    },
    {
      "cell_type": "markdown",
      "source": [
        "Abaixo são exercícios de For e While:"
      ],
      "metadata": {
        "id": "244L8hAOGvRN"
      }
    },
    {
      "cell_type": "code",
      "source": [
        "clientes = [\"João\", \"Maria\", \"Carlos\", \"Ana\", \"Beatriz\"]\n",
        "\n",
        "for cliente in clientes:\n",
        "  print(cliente)\n"
      ],
      "metadata": {
        "colab": {
          "base_uri": "https://localhost:8080/"
        },
        "id": "ignRRVYPG1tD",
        "outputId": "0d348173-62f2-48a6-8c9c-06e8640025db"
      },
      "execution_count": null,
      "outputs": [
        {
          "output_type": "stream",
          "name": "stdout",
          "text": [
            "João\n",
            "Maria\n",
            "Carlos\n",
            "Ana\n",
            "Beatriz\n"
          ]
        }
      ]
    },
    {
      "cell_type": "code",
      "source": [
        "contador = 0\n",
        "\n",
        "while contador < 10:\n",
        "  print(\"Processando dados...\")\n",
        "  contador += 1"
      ],
      "metadata": {
        "colab": {
          "base_uri": "https://localhost:8080/"
        },
        "id": "6JpTGIL-HkQP",
        "outputId": "cbc65231-98e0-41d6-db40-37bee53115a3"
      },
      "execution_count": null,
      "outputs": [
        {
          "output_type": "stream",
          "name": "stdout",
          "text": [
            "Processando dados...\n",
            "Processando dados...\n",
            "Processando dados...\n",
            "Processando dados...\n",
            "Processando dados...\n",
            "Processando dados...\n",
            "Processando dados...\n",
            "Processando dados...\n",
            "Processando dados...\n",
            "Processando dados...\n"
          ]
        }
      ]
    },
    {
      "cell_type": "code",
      "source": [
        "contador = 0\n",
        "while contador < 5:\n",
        "  print(\"Bem-vindo ao Buscante!\")\n",
        "  contador += 1"
      ],
      "metadata": {
        "colab": {
          "base_uri": "https://localhost:8080/"
        },
        "id": "haEB55VCIPdT",
        "outputId": "92473334-8323-4335-94af-5e0598f0c53d"
      },
      "execution_count": null,
      "outputs": [
        {
          "output_type": "stream",
          "name": "stdout",
          "text": [
            "Bem-vindo ao Buscante!\n",
            "Bem-vindo ao Buscante!\n",
            "Bem-vindo ao Buscante!\n",
            "Bem-vindo ao Buscante!\n",
            "Bem-vindo ao Buscante!\n"
          ]
        }
      ]
    },
    {
      "cell_type": "code",
      "source": [
        "for i in range(5):\n",
        "  print(\"Bem-vindo ao Buscante!\")"
      ],
      "metadata": {
        "colab": {
          "base_uri": "https://localhost:8080/"
        },
        "id": "nVfRdbyBIfpE",
        "outputId": "769d961b-f42b-49a8-cd1a-da25a156572d"
      },
      "execution_count": null,
      "outputs": [
        {
          "output_type": "stream",
          "name": "stdout",
          "text": [
            "Bem-vindo ao Buscante!\n",
            "Bem-vindo ao Buscante!\n",
            "Bem-vindo ao Buscante!\n",
            "Bem-vindo ao Buscante!\n",
            "Bem-vindo ao Buscante!\n"
          ]
        }
      ]
    },
    {
      "cell_type": "code",
      "source": [
        "valores = [10,20,30,40,50]\n",
        "soma = 0\n",
        "\n",
        "for valor in valores:\n",
        "  soma += valor\n",
        "\n",
        "print(f\"A soma dos valores é: {soma}\")\n"
      ],
      "metadata": {
        "colab": {
          "base_uri": "https://localhost:8080/"
        },
        "id": "5FDp6janIpJ5",
        "outputId": "64c6ef40-2720-4b16-9cf3-56c222749d3e"
      },
      "execution_count": null,
      "outputs": [
        {
          "output_type": "stream",
          "name": "stdout",
          "text": [
            "A soma dos valores é: 160\n"
          ]
        }
      ]
    },
    {
      "cell_type": "code",
      "source": [
        "projetos = [\"website\", \"jogo\", \"análise de dados\", None, \"aplicativo móvel\"]\n",
        "for projeto in projetos:\n",
        "  if projeto is None:\n",
        "    print(\"Projeto ausente\")\n",
        "\n",
        "  else:\n",
        "    print(projeto)\n",
        "\n"
      ],
      "metadata": {
        "colab": {
          "base_uri": "https://localhost:8080/"
        },
        "id": "1lZRg1DJJlk3",
        "outputId": "9802b65f-eea5-4fb9-86ed-b2ca8dd16514"
      },
      "execution_count": null,
      "outputs": [
        {
          "output_type": "stream",
          "name": "stdout",
          "text": [
            "website\n",
            "jogo\n",
            "análise de dados\n",
            "Projeto ausente\n",
            "aplicativo móvel\n"
          ]
        }
      ]
    },
    {
      "cell_type": "code",
      "source": [
        "livros = [\"1984\", \"Dom Casmurro\", \"O Pequeno Príncipe\", \"O Hobbit\", \"Orgulho e Preconceito\"]\n",
        "\n",
        "for livro in livros:\n",
        "  if livro == \"O Hobbit\":\n",
        "    print(f\"Livro encontrado: {livro}\")\n",
        "    break\n"
      ],
      "metadata": {
        "colab": {
          "base_uri": "https://localhost:8080/"
        },
        "id": "Z6cT1iL0K3Ah",
        "outputId": "0a375653-c2e7-4c5e-98af-584db156dbc0"
      },
      "execution_count": null,
      "outputs": [
        {
          "output_type": "stream",
          "name": "stdout",
          "text": [
            "Livro encontrado: O Hobbit\n"
          ]
        }
      ]
    },
    {
      "cell_type": "code",
      "source": [
        "estoque = 5\n",
        "\n",
        "while estoque > 0:\n",
        "  estoque -= 1\n",
        "  print(f\"Venda realizada! Estoque restante: {estoque}\")\n",
        "\n",
        "print(\"Estoque esgotado\")"
      ],
      "metadata": {
        "colab": {
          "base_uri": "https://localhost:8080/"
        },
        "id": "cbWexNL4UvrM",
        "outputId": "dc49a758-ab20-4f2d-c37f-a71192ea2575"
      },
      "execution_count": null,
      "outputs": [
        {
          "output_type": "stream",
          "name": "stdout",
          "text": [
            "Venda realizada! Estoque restante: 4\n",
            "Venda realizada! Estoque restante: 3\n",
            "Venda realizada! Estoque restante: 2\n",
            "Venda realizada! Estoque restante: 1\n",
            "Venda realizada! Estoque restante: 0\n",
            "Estoque esgotado\n"
          ]
        }
      ]
    },
    {
      "cell_type": "code",
      "source": [
        "for segundos in range(10, 0, -1):\n",
        "  if segundos % 2 == 0:\n",
        "    print(f\"Faltam apenas {segundos} segundos - Não perca essa oportunidade!\")\n",
        "\n",
        "  else:\n",
        "      print(f\"A contagem continua: {segundos} segundos restantes.\")\n",
        "\n",
        "print(\"Aproveite a promoção agora!\")"
      ],
      "metadata": {
        "colab": {
          "base_uri": "https://localhost:8080/"
        },
        "id": "05uWHmwSVyAd",
        "outputId": "b37875cc-7cff-48ec-e07f-e4849f552edb"
      },
      "execution_count": null,
      "outputs": [
        {
          "output_type": "stream",
          "name": "stdout",
          "text": [
            "Faltam apenas 10 segundos - Não perca essa oportunidade!\n",
            "A contagem continua: 9 segundos restantes.\n",
            "Faltam apenas 8 segundos - Não perca essa oportunidade!\n",
            "A contagem continua: 7 segundos restantes.\n",
            "Faltam apenas 6 segundos - Não perca essa oportunidade!\n",
            "A contagem continua: 5 segundos restantes.\n",
            "Faltam apenas 4 segundos - Não perca essa oportunidade!\n",
            "A contagem continua: 3 segundos restantes.\n",
            "Faltam apenas 2 segundos - Não perca essa oportunidade!\n",
            "A contagem continua: 1 segundos restantes.\n",
            "Aproveite a promoção agora!\n"
          ]
        }
      ]
    },
    {
      "cell_type": "code",
      "source": [
        "livros = [\n",
        "    {\"nome\": \"1984\", \"estoque\": 5},\n",
        "    {\"nome\": \"Dom Casmurro\", \"estoque\": 0},\n",
        "    {\"nome\": \"O Pequeno Príncipe\", \"estoque\": 3},\n",
        "    {\"nome\": \"O Hobbit\", \"estoque\": 0},\n",
        "    {\"nome\": \"Orgulho e Preconceito\", \"estoque\": 2}\n",
        "]\n",
        "\n",
        "print(\"--- Status do Estoque de Livros ---\")\n",
        "\n",
        "for livro in livros:\n",
        "    # Se o estoque for IGUAL a zero, é indisponível\n",
        "    if livro[\"estoque\"] == 0:\n",
        "        print(f\"❌ INDISPONÍVEL: {livro['nome']}\")\n",
        "    # Se o estoque for MAIOR que zero, é disponível\n",
        "    else:\n",
        "        print(f\"✅ DISPONÍVEL: {livro['nome']} (Estoque: {livro['estoque']})\")"
      ],
      "metadata": {
        "colab": {
          "base_uri": "https://localhost:8080/"
        },
        "id": "ixhnO-KObWxs",
        "outputId": "4c9e1844-a721-4ff8-e0b6-4edecb308076"
      },
      "execution_count": null,
      "outputs": [
        {
          "output_type": "stream",
          "name": "stdout",
          "text": [
            "--- Status do Estoque de Livros ---\n",
            "✅ DISPONÍVEL: 1984 (Estoque: 5)\n",
            "❌ INDISPONÍVEL: Dom Casmurro\n",
            "✅ DISPONÍVEL: O Pequeno Príncipe (Estoque: 3)\n",
            "❌ INDISPONÍVEL: O Hobbit\n",
            "✅ DISPONÍVEL: Orgulho e Preconceito (Estoque: 2)\n"
          ]
        }
      ]
    },
    {
      "cell_type": "code",
      "source": [
        "while True:\n",
        "  nome_usuario = input(\"Digite seu nome de usuário: \")\n",
        "  senha = input(\"Digite sua senha: \")\n",
        "\n",
        "  if len(nome_usua\n",
        "         rio) < 5:\n",
        "    print(\"O nome de usuário deve ter pelo menos 5 caracteres\")\n",
        "    continue\n",
        "  if len(senha) < 8:\n",
        "    print(\"A senha deve ter pelo menos 8 caracteres\")\n",
        "    continue\n",
        "\n",
        "  print(\"Cadastro realizado com sucesso!\")\n",
        "  break"
      ],
      "metadata": {
        "colab": {
          "base_uri": "https://localhost:8080/"
        },
        "id": "uaOowiYjdB8x",
        "outputId": "ebf665c7-5574-4708-89ed-1fc406ddea51"
      },
      "execution_count": null,
      "outputs": [
        {
          "output_type": "stream",
          "name": "stdout",
          "text": [
            "Digite seu nome de usuário: sdad\n",
            "Digite sua senha: dassda\n",
            "O nome de usuário deve ter pelo menos 5 caracteres\n",
            "Digite seu nome de usuário: dasdsa\n",
            "Digite sua senha: das\n",
            "A senha deve ter pelo menos 8 caracteres\n",
            "Digite seu nome de usuário: as\n",
            "Digite sua senha: as\n",
            "O nome de usuário deve ter pelo menos 5 caracteres\n",
            "Digite seu nome de usuário: aadsdasdasdas\n",
            "Digite sua senha: dasdasasdasdasdasdasdas\n",
            "Cadastro realizado com sucesso!\n"
          ]
        }
      ]
    }
  ]
}