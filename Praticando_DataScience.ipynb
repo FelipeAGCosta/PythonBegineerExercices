{
  "nbformat": 4,
  "nbformat_minor": 0,
  "metadata": {
    "colab": {
      "provenance": [],
      "authorship_tag": "ABX9TyODKp1pD05+TdzmHFDKU0iR",
      "include_colab_link": true
    },
    "kernelspec": {
      "name": "python3",
      "display_name": "Python 3"
    },
    "language_info": {
      "name": "python"
    }
  },
  "cells": [
    {
      "cell_type": "markdown",
      "metadata": {
        "id": "view-in-github",
        "colab_type": "text"
      },
      "source": [
        "<a href=\"https://colab.research.google.com/github/FelipeAGCosta/PythonBegineerExercices/blob/main/Praticando_DataScience.ipynb\" target=\"_parent\"><img src=\"https://colab.research.google.com/assets/colab-badge.svg\" alt=\"Open In Colab\"/></a>"
      ]
    },
    {
      "cell_type": "code",
      "execution_count": null,
      "metadata": {
        "colab": {
          "base_uri": "https://localhost:8080/"
        },
        "id": "T2o55WIHeWzD",
        "outputId": "eefbff63-691f-4010-a6ca-2de71b2bece7"
      },
      "outputs": [
        {
          "output_type": "stream",
          "name": "stdout",
          "text": [
            "Requirement already satisfied: matplotlib in /usr/local/lib/python3.12/dist-packages (3.10.0)\n",
            "Requirement already satisfied: contourpy>=1.0.1 in /usr/local/lib/python3.12/dist-packages (from matplotlib) (1.3.3)\n",
            "Requirement already satisfied: cycler>=0.10 in /usr/local/lib/python3.12/dist-packages (from matplotlib) (0.12.1)\n",
            "Requirement already satisfied: fonttools>=4.22.0 in /usr/local/lib/python3.12/dist-packages (from matplotlib) (4.60.1)\n",
            "Requirement already satisfied: kiwisolver>=1.3.1 in /usr/local/lib/python3.12/dist-packages (from matplotlib) (1.4.9)\n",
            "Requirement already satisfied: numpy>=1.23 in /usr/local/lib/python3.12/dist-packages (from matplotlib) (2.0.2)\n",
            "Requirement already satisfied: packaging>=20.0 in /usr/local/lib/python3.12/dist-packages (from matplotlib) (25.0)\n",
            "Requirement already satisfied: pillow>=8 in /usr/local/lib/python3.12/dist-packages (from matplotlib) (11.3.0)\n",
            "Requirement already satisfied: pyparsing>=2.3.1 in /usr/local/lib/python3.12/dist-packages (from matplotlib) (3.2.5)\n",
            "Requirement already satisfied: python-dateutil>=2.7 in /usr/local/lib/python3.12/dist-packages (from matplotlib) (2.9.0.post0)\n",
            "Requirement already satisfied: six>=1.5 in /usr/local/lib/python3.12/dist-packages (from python-dateutil>=2.7->matplotlib) (1.17.0)\n"
          ]
        }
      ],
      "source": [
        "!pip install matplotlib"
      ]
    },
    {
      "cell_type": "code",
      "source": [
        "!pip install numpy\n"
      ],
      "metadata": {
        "colab": {
          "base_uri": "https://localhost:8080/"
        },
        "id": "MPObrfXOeq01",
        "outputId": "57fa58f9-b1fd-4b1d-dcea-48f00c6eb9f7"
      },
      "execution_count": null,
      "outputs": [
        {
          "output_type": "stream",
          "name": "stdout",
          "text": [
            "Requirement already satisfied: numpy in /usr/local/lib/python3.12/dist-packages (2.0.2)\n"
          ]
        }
      ]
    },
    {
      "cell_type": "code",
      "source": [
        "import matplotlib.pyplot as plt\n",
        "import numpy as np"
      ],
      "metadata": {
        "id": "N8fFjiQte0KS"
      },
      "execution_count": null,
      "outputs": []
    },
    {
      "cell_type": "code",
      "source": [
        "lista = [8, 12, 54, 23, 43, 1, 90, 87, 105, 77]"
      ],
      "metadata": {
        "id": "VDRqtQoafEOw"
      },
      "execution_count": null,
      "outputs": []
    },
    {
      "cell_type": "code",
      "source": [
        "print(lista)"
      ],
      "metadata": {
        "colab": {
          "base_uri": "https://localhost:8080/"
        },
        "id": "kuHwhYvifFIA",
        "outputId": "2106b350-d00b-4d22-91f7-c247862a143b"
      },
      "execution_count": null,
      "outputs": [
        {
          "output_type": "stream",
          "name": "stdout",
          "text": [
            "[8, 12, 54, 23, 43, 1, 90, 87, 105, 77]\n"
          ]
        }
      ]
    },
    {
      "cell_type": "code",
      "source": [
        "import random"
      ],
      "metadata": {
        "id": "bZNP9xM6hGqY"
      },
      "execution_count": null,
      "outputs": []
    },
    {
      "cell_type": "code",
      "source": [
        "from random import choice"
      ],
      "metadata": {
        "id": "xp5JULP6foyr"
      },
      "execution_count": null,
      "outputs": []
    },
    {
      "cell_type": "code",
      "source": [
        "sorteio = choice(lista)\n",
        "sorteio"
      ],
      "metadata": {
        "colab": {
          "base_uri": "https://localhost:8080/"
        },
        "id": "1qCsrmWtfrfE",
        "outputId": "fbf7aa2d-7443-4f3b-9b3e-9d37ff9174dd"
      },
      "execution_count": null,
      "outputs": [
        {
          "output_type": "execute_result",
          "data": {
            "text/plain": [
              "87"
            ]
          },
          "metadata": {},
          "execution_count": 28
        }
      ]
    },
    {
      "cell_type": "code",
      "source": [
        "menores_que_100 = [n for n in lista if n < 100]\n",
        "\n"
      ],
      "metadata": {
        "id": "48MkWUZMgFsp"
      },
      "execution_count": null,
      "outputs": []
    },
    {
      "cell_type": "code",
      "source": [
        "numero_sorteado = random.choice(menores_que_100)\n",
        "print(f\"Numero sorteado: {numero_sorteado}\")"
      ],
      "metadata": {
        "colab": {
          "base_uri": "https://localhost:8080/"
        },
        "id": "iMLwswT5gmBJ",
        "outputId": "99c1f823-a975-401d-d406-9fe8d5ebcfd0"
      },
      "execution_count": null,
      "outputs": [
        {
          "output_type": "stream",
          "name": "stdout",
          "text": [
            "Numero sorteado: 1\n"
          ]
        }
      ]
    },
    {
      "cell_type": "code",
      "source": [
        "import math\n"
      ],
      "metadata": {
        "id": "r5zIApz_hepc"
      },
      "execution_count": null,
      "outputs": []
    },
    {
      "cell_type": "code",
      "source": [
        "base = int(input(\"Digite o primeiro número inteiro (base): \"))\n",
        "expoente = int(input(\"Digite o segundo número inteiro (expoente): \"))"
      ],
      "metadata": {
        "colab": {
          "base_uri": "https://localhost:8080/"
        },
        "id": "oZxC9YyYhf9h",
        "outputId": "0a1ede02-6628-42c1-8452-d03f24a1c31e"
      },
      "execution_count": null,
      "outputs": [
        {
          "name": "stdout",
          "output_type": "stream",
          "text": [
            "Digite o primeiro número inteiro (base): 7\n",
            "Digite o segundo número inteiro (expoente): 2\n"
          ]
        }
      ]
    },
    {
      "cell_type": "code",
      "source": [
        "resultado = math.pow(base, expoente)"
      ],
      "metadata": {
        "id": "tPUWzGGshrXC"
      },
      "execution_count": null,
      "outputs": []
    },
    {
      "cell_type": "code",
      "source": [
        "print(f\"{base} elevado a {expoente} é igual a {resultado}\")"
      ],
      "metadata": {
        "colab": {
          "base_uri": "https://localhost:8080/"
        },
        "id": "lPWTvkiRhvDI",
        "outputId": "1fbe698e-fd68-4864-faac-9e70af942c9e"
      },
      "execution_count": null,
      "outputs": [
        {
          "output_type": "stream",
          "name": "stdout",
          "text": [
            "7 elevado a 2 é igual a 49.0\n"
          ]
        }
      ]
    },
    {
      "cell_type": "code",
      "source": [
        "total_participantes = int(input(\"Digite o número total de participantes: \"))"
      ],
      "metadata": {
        "colab": {
          "base_uri": "https://localhost:8080/"
        },
        "id": "SKS6jWepiSXm",
        "outputId": "3f40e3b5-156a-4df9-f01c-8051c822b5dc"
      },
      "execution_count": null,
      "outputs": [
        {
          "name": "stdout",
          "output_type": "stream",
          "text": [
            "Digite o número total de participantes: 30\n"
          ]
        }
      ]
    },
    {
      "cell_type": "code",
      "source": [
        "numero_sorteado = random.randrange(1, total_participantes +1)\n",
        "\n",
        "print(f\"O número sorteado foi: {numero_sorteado}\")"
      ],
      "metadata": {
        "colab": {
          "base_uri": "https://localhost:8080/"
        },
        "id": "OA6mlYYqiZZX",
        "outputId": "3c32ce65-8101-483c-c687-162ed1699712"
      },
      "execution_count": null,
      "outputs": [
        {
          "output_type": "stream",
          "name": "stdout",
          "text": [
            "O número sorteado foi: 3\n"
          ]
        }
      ]
    },
    {
      "cell_type": "code",
      "source": [
        "nome = input(\"Digite o seu nome: \")"
      ],
      "metadata": {
        "colab": {
          "base_uri": "https://localhost:8080/"
        },
        "id": "CuPuirejjL4_",
        "outputId": "9314de41-ccbb-490b-ec2f-3e0947652097"
      },
      "execution_count": null,
      "outputs": [
        {
          "name": "stdout",
          "output_type": "stream",
          "text": [
            "Digite o seu nome: Joesley\n"
          ]
        }
      ]
    },
    {
      "cell_type": "code",
      "source": [
        "token = random.randrange(000, 9998, 2)\n",
        "print(f\"Olá, {nome} seu token é: {token}\")"
      ],
      "metadata": {
        "colab": {
          "base_uri": "https://localhost:8080/"
        },
        "id": "NwYHfEicjPyz",
        "outputId": "f566a46e-22e0-4b16-a93b-0f87a86e0c70"
      },
      "execution_count": null,
      "outputs": [
        {
          "output_type": "stream",
          "name": "stdout",
          "text": [
            "Olá, Joesley seu token é: 1452\n"
          ]
        }
      ]
    },
    {
      "cell_type": "code",
      "source": [
        "frutas = [\"maçã\", \"banana\", \"uva\", \"pêra\",\n",
        "          \"manga\", \"coco\", \"melancia\", \"mamão\",\n",
        "          \"laranja\", \"abacaxi\", \"kiwi\", \"ameixa\"]"
      ],
      "metadata": {
        "id": "mnV4HbigkBpA"
      },
      "execution_count": null,
      "outputs": []
    },
    {
      "cell_type": "code",
      "source": [
        "salada_surpresa = random.sample(frutas, 3)\n",
        "\n",
        "print(\"Sua salada de frutas surpresa contém: \")\n",
        "for fruta in salada_surpresa:\n",
        "    print(\"-\", fruta)"
      ],
      "metadata": {
        "colab": {
          "base_uri": "https://localhost:8080/"
        },
        "id": "l1pmEPpWkEhe",
        "outputId": "c719ec57-66c8-408d-bb38-87134504a0ce"
      },
      "execution_count": null,
      "outputs": [
        {
          "output_type": "stream",
          "name": "stdout",
          "text": [
            "Sua salada de frutas surpresa contém: \n",
            "- pêra\n",
            "- manga\n",
            "- coco\n"
          ]
        }
      ]
    },
    {
      "cell_type": "code",
      "source": [
        "numeros = [2, 8, 15, 23, 91, 112, 256]"
      ],
      "metadata": {
        "id": "9I0M48Q5k2pg"
      },
      "execution_count": null,
      "outputs": []
    },
    {
      "cell_type": "code",
      "source": [
        "for n in numeros:\n",
        "  raiz = math.sqrt(n)\n",
        "  if raiz.is_integer():\n",
        "    print(f\"A raiz quadrada de {n} é {int(raiz)} (inteira).\")\n",
        "  else:\n",
        "    print(f\"A raiz quadrada de {n} não é um número inteiro.\")"
      ],
      "metadata": {
        "colab": {
          "base_uri": "https://localhost:8080/"
        },
        "id": "DQ2oX1Blk5gb",
        "outputId": "4b144ec3-0fd5-4e71-d32f-7fbda1bd50f4"
      },
      "execution_count": null,
      "outputs": [
        {
          "output_type": "stream",
          "name": "stdout",
          "text": [
            "A raiz quadrada de 2 não é um número inteiro.\n",
            "A raiz quadrada de 8 não é um número inteiro.\n",
            "A raiz quadrada de 15 não é um número inteiro.\n",
            "A raiz quadrada de 23 não é um número inteiro.\n",
            "A raiz quadrada de 91 não é um número inteiro.\n",
            "A raiz quadrada de 112 não é um número inteiro.\n",
            "A raiz quadrada de 256 é 16 (inteira).\n"
          ]
        }
      ]
    }
  ]
}