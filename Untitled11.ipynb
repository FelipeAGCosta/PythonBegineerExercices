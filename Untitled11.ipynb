{
  "nbformat": 4,
  "nbformat_minor": 0,
  "metadata": {
    "colab": {
      "provenance": [],
      "authorship_tag": "ABX9TyPW+/Lt9AtccrMoV1wVzqVq",
      "include_colab_link": true
    },
    "kernelspec": {
      "name": "python3",
      "display_name": "Python 3"
    },
    "language_info": {
      "name": "python"
    }
  },
  "cells": [
    {
      "cell_type": "markdown",
      "metadata": {
        "id": "view-in-github",
        "colab_type": "text"
      },
      "source": [
        "<a href=\"https://colab.research.google.com/github/FelipeAGCosta/PythonBegineerExercices/blob/main/Untitled11.ipynb\" target=\"_parent\"><img src=\"https://colab.research.google.com/assets/colab-badge.svg\" alt=\"Open In Colab\"/></a>"
      ]
    },
    {
      "cell_type": "markdown",
      "source": [
        "\n",
        "\n",
        " Faça um programa que solicite à pessoa usuária digitar dois números float e calcular a divisão entre esses números. O código deve conter um tratamento de erro, indicando o tipo de erro que foi gerado caso a divisão não seja possível de realizar.\n",
        "\n"
      ],
      "metadata": {
        "id": "s1p8uTgsWLKA"
      }
    },
    {
      "cell_type": "markdown",
      "source": [
        "Teste o programa com o segundo valor numérico do input igual a 0. Também teste utilizando caracteres textuais no input para checar os tipos de erro que ocorrem."
      ],
      "metadata": {
        "id": "U75LSX5yWRMt"
      }
    },
    {
      "cell_type": "code",
      "source": [
        "try:\n",
        "    numero_1 = float(input())\n",
        "    numero_2 = float(input())\n",
        "    divisao = numero_1 / numero_2\n",
        "except Exception as e:\n",
        "    print(type(e), f'Erro: {e}')"
      ],
      "metadata": {
        "colab": {
          "base_uri": "https://localhost:8080/"
        },
        "id": "mn4qNXwqWQve",
        "outputId": "24fe2af1-7fc8-4b69-d60f-962ce1340f57"
      },
      "execution_count": 4,
      "outputs": [
        {
          "output_type": "stream",
          "name": "stdout",
          "text": [
            "8.545\n",
            "0\n",
            "<class 'ZeroDivisionError'> Erro: float division by zero\n"
          ]
        }
      ]
    },
    {
      "cell_type": "markdown",
      "source": [
        "Faça um programa que solicite à pessoa usuária digitar um texto que será uma chave a ser pesquisada no seguinte dicionário: idades = {'Júlia': 16, 'Carol': 23, 'Alberto': 19, 'Roberta': 17}, armazenando o resultado do valor em uma variável. O código deve conter um tratamento de erro KeyError, imprimindo a informação 'Nome não encontrado', caso ocorra o erro; e imprimir o valor caso não ocorra nenhum."
      ],
      "metadata": {
        "id": "8fDeQFR3WUzq"
      }
    },
    {
      "cell_type": "code",
      "source": [
        "idades = {'Júlia': 16, 'Carol': 23, 'Alberto': 19, 'Roberta': 17}"
      ],
      "metadata": {
        "id": "J9pk9Nc2X1PT"
      },
      "execution_count": 6,
      "outputs": []
    },
    {
      "cell_type": "markdown",
      "source": [
        "Teste o programa com um nome presente em uma das chaves do dicionário e com um que não esteja no dicionário para verificar a mensagem de erro."
      ],
      "metadata": {
        "id": "JbXk7r-vWWIF"
      }
    },
    {
      "cell_type": "code",
      "source": [
        "try:\n",
        "    chave = input()\n",
        "    valor = idades[chave]\n",
        "except KeyError:\n",
        "    print('Nome não encontrado')\n",
        "else:\n",
        "    print(valor)"
      ],
      "metadata": {
        "colab": {
          "base_uri": "https://localhost:8080/"
        },
        "id": "WxLhNGidWXhI",
        "outputId": "28e0b252-9e2b-47e5-fc16-b6b53caa486c"
      },
      "execution_count": 7,
      "outputs": [
        {
          "output_type": "stream",
          "name": "stdout",
          "text": [
            "Fulano\n",
            "Nome não encontrado\n"
          ]
        }
      ]
    },
    {
      "cell_type": "markdown",
      "source": [
        "Crie uma função que recebe uma lista como parâmetro e converta todos os valores da lista para float. A função deve conter um tratamento de erro indicando o tipo de erro gerado e retornar a lista caso não tenha ocorrido nenhum erro. Por fim, deve ter a cláusula finally para imprimir o texto: 'Fim da execução da função'."
      ],
      "metadata": {
        "id": "DE2EQWyJWX0A"
      }
    },
    {
      "cell_type": "code",
      "source": [
        "nova_lista = [4,6,\"a\",9,\"10.1\"]"
      ],
      "metadata": {
        "id": "FEISWPbUYHaB"
      },
      "execution_count": 21,
      "outputs": []
    },
    {
      "cell_type": "code",
      "source": [
        "def converte_lista(lista):\n",
        "    try:\n",
        "        nova_lista = [float(elemento) for elemento in lista]\n",
        "    except Exception as e:\n",
        "        print(type(e), f'Erro: {e}')\n",
        "    else:\n",
        "        return nova_lista\n",
        "    finally:\n",
        "        print('Fim da execução da função')"
      ],
      "metadata": {
        "id": "4G_d4184WZJk"
      },
      "execution_count": 22,
      "outputs": []
    },
    {
      "cell_type": "markdown",
      "source": [
        " Crie uma função que recebe duas listas como parâmetros e agrupe os elementos um a um das listas, formando uma lista de tuplas de 3 elementos, no qual o primeiro e segundo elemento da tupla são os valores na posição i das listas e o terceiro elemento é a soma dos valores na posição i das listas."
      ],
      "metadata": {
        "id": "Uk9_-rx4WZPX"
      }
    },
    {
      "cell_type": "markdown",
      "source": [
        "A função deve conter um tratamento de erro indicando o tipo de erro gerado e retornar como resultado a lista de tuplas. Caso as listas enviadas como parâmetro tenham tamanhos diferentes, a função deve retornar um IndexError com a frase: 'A quantidade de elementos em cada lista é diferente.' Dados para testar a função:"
      ],
      "metadata": {
        "id": "v9EmCSMUWbmj"
      }
    },
    {
      "cell_type": "markdown",
      "source": [
        "Valores sem erro:"
      ],
      "metadata": {
        "id": "2Vq6prxrWiM6"
      }
    },
    {
      "cell_type": "code",
      "source": [
        "lista1 = [4,6,7,9,10]\n",
        "lista2 = [-4,6,8,7,9]"
      ],
      "metadata": {
        "id": "ukWCNAPHWe0p"
      },
      "execution_count": 23,
      "outputs": []
    },
    {
      "cell_type": "markdown",
      "source": [
        "Listas com tamanhos diferentes:"
      ],
      "metadata": {
        "id": "xrKiVx6PWi_y"
      }
    },
    {
      "cell_type": "code",
      "source": [
        "lista1 = [4,6,7,9,10,4]\n",
        "lista2 = [-4,6,8,7,9]"
      ],
      "metadata": {
        "id": "XKlk8T2uWfuk"
      },
      "execution_count": 24,
      "outputs": []
    },
    {
      "cell_type": "markdown",
      "source": [
        "Listas com valores incoerentes:"
      ],
      "metadata": {
        "id": "YbcLAneBWmL_"
      }
    },
    {
      "cell_type": "code",
      "source": [
        "lista1 = [4,6,7,9,'A']\n",
        "lista2 = [-4,'E',8,7,9]"
      ],
      "metadata": {
        "id": "N5-TB_b4WoVy"
      },
      "execution_count": 27,
      "outputs": []
    },
    {
      "cell_type": "code",
      "source": [
        "def soma_listas(lista1, lista2):\n",
        "    try:\n",
        "        if len(lista1) == len(lista2):\n",
        "            dados = [(lista1[i], lista2[i], lista1[i]+lista2[i]) for i in range(len(lista1))]\n",
        "        else:\n",
        "            raise IndexError('A quantidade de elementos em cada lista é diferente.')\n",
        "    except Exception as e:\n",
        "        print(type(e), f'Erro: {e}')\n",
        "    else:\n",
        "        return dados"
      ],
      "metadata": {
        "id": "ejkpTpV2Yn6k"
      },
      "execution_count": 28,
      "outputs": []
    },
    {
      "cell_type": "markdown",
      "source": [
        "5. Como desafio, você recebeu a tarefa de desenvolver um código que contabiliza as pontuações de estudantes de uma instituição de ensino de acordo com suas respostas num teste. Este código deve ser testado para um exemplo de 3 estudantes com uma lista de listas em que cada lista possui as respostas de 5 questões objetivas de cada estudante. Cada questão vale um ponto e as alternativas possíveis são A, B, C ou D.\n",
        "\n",
        "Caso alguma alternativa em um dos testes não esteja entre as alternativas possíveis, você deve lançar um ValueError com a mensagem \"A alternativa [alternativa] não é uma opção de alternativa válida\". O cálculo das 3 notas só será realizado mediante as entradas com as alternativas A, B, C ou D em todos os testes. Se não for lançada a exceção, será exibida uma lista com as notas em cada teste."
      ],
      "metadata": {
        "id": "1_XD3QGEWpli"
      }
    },
    {
      "cell_type": "markdown",
      "source": [
        "Os dados para o teste do código são:\n",
        "\n",
        "Gabarito da prova:"
      ],
      "metadata": {
        "id": "FFDvHJbyWtCf"
      }
    },
    {
      "cell_type": "code",
      "source": [
        "gabarito = ['D', 'A', 'B', 'C', 'A']"
      ],
      "metadata": {
        "id": "jKI4RxkUWsLG"
      },
      "execution_count": null,
      "outputs": []
    },
    {
      "cell_type": "markdown",
      "source": [
        "Abaixo temos 2 listas de listas que você pode usar como teste\n",
        "\n",
        "Notas sem exceção:"
      ],
      "metadata": {
        "id": "SpG9aX1kWwgn"
      }
    },
    {
      "cell_type": "code",
      "source": [
        "testes_sem_ex = [['D', 'A', 'B', 'C', 'A'], ['C', 'A', 'A', 'C', 'A'], ['D', 'B', 'A', 'C', 'A']]"
      ],
      "metadata": {
        "id": "mzHPrXV1WyOi"
      },
      "execution_count": null,
      "outputs": []
    },
    {
      "cell_type": "markdown",
      "source": [
        "Notas com exceção:"
      ],
      "metadata": {
        "id": "3N6i1_mXWzJE"
      }
    },
    {
      "cell_type": "code",
      "source": [
        "testes_com_ex = [['D', 'A', 'B', 'C', 'A'], ['C', 'A', 'A', 'E', 'A'], ['D', 'B', 'A', 'C', 'A']]"
      ],
      "metadata": {
        "id": "9H4Ua8afW1Dn"
      },
      "execution_count": null,
      "outputs": []
    },
    {
      "cell_type": "markdown",
      "source": [],
      "metadata": {
        "id": "Wd6WH4_eW_Pv"
      }
    },
    {
      "cell_type": "markdown",
      "source": [
        "Dica: Para verificar se uma entrada da lista não está entre as alternativas possíveis, use a estrutura lista[i] not in ['A','B','C','D']. Por exemplo, 1 not in [2,3,4]... Saída: True."
      ],
      "metadata": {
        "id": "dRkMB-qwW3t2"
      }
    },
    {
      "cell_type": "code",
      "source": [],
      "metadata": {
        "id": "zOJNXSH_W_F6"
      },
      "execution_count": null,
      "outputs": []
    },
    {
      "cell_type": "markdown",
      "source": [
        "6. Você está trabalhando com processamento de linguagem natural (NLP) e, dessa vez, sua líder requisitou que você criasse um trecho de código que recebe uma lista com as palavras separadas de uma frase gerada pelo ChatGPT.\n",
        "\n",
        "Você precisa criar uma função que avalia cada palavra desse texto e verificar se o tratamento para retirar os símbolos de pontuação (',' '.', '!' e '?') foi realizado. Caso contrário, será lançada uma exceção do tipo ValueError apontando o 1º caso em que foi detectado o uso de uma pontuação por meio da frase \"O texto apresenta pontuações na palavra \"[palavra]\".\". Essa demanda é voltada para a análise do padrão de frases geradas pela inteligência artificial."
      ],
      "metadata": {
        "id": "4Y6SW4xsW8lT"
      }
    },
    {
      "cell_type": "markdown",
      "source": [
        "Dica: Para verificar se uma ou mais das pontuações estão presentes em cada palavra, utilize a palavra chave or na condição if. Por exemplo, 'a' in 'alura' or 'b' in 'alura'… Saída: True"
      ],
      "metadata": {
        "id": "hmD1YlPfXCjK"
      }
    },
    {
      "cell_type": "markdown",
      "source": [
        "Os dados para o teste do código são:\n",
        "\n",
        "Lista tratada:"
      ],
      "metadata": {
        "id": "7VE-Ue9NXEHF"
      }
    },
    {
      "cell_type": "code",
      "source": [
        "lista_tratada = ['Python', 'é', 'uma', 'linguagem', 'de', 'programação', 'poderosa', 'versátil',\n",
        "                  'e', 'fácil', 'de', 'aprender', 'utilizada', 'em', 'diversos', 'campos', 'desde',\n",
        "                  'análise', 'de', 'dados', 'até', 'inteligência', 'artificial']"
      ],
      "metadata": {
        "id": "x-lJsUnmXFMa"
      },
      "execution_count": null,
      "outputs": []
    },
    {
      "cell_type": "markdown",
      "source": [
        "Lista não tratada:"
      ],
      "metadata": {
        "id": "QdWA6amDXFxs"
      }
    },
    {
      "cell_type": "code",
      "source": [
        "lista_nao_tratada = ['Python', 'é', 'uma', 'linguagem', 'de', 'programação', 'poderosa,', 'versátil',\n",
        "                  'e', 'fácil,', 'de', 'aprender', 'utilizada', 'em', 'diversos', 'campos,', 'desde',\n",
        "                  'análise', 'de', 'dados', 'até', 'inteligência', 'artificial!']"
      ],
      "metadata": {
        "id": "y0_TnlXCXH0o"
      },
      "execution_count": null,
      "outputs": []
    },
    {
      "cell_type": "markdown",
      "source": [
        "7. Você foi contratado(a) como uma pessoa cientista de dados para auxiliar um laboratório que faz experimentos sobre o comportamento de uma cultura de fungos. O laboratório precisa avaliar constantemente a razão (divisão) entre os dados de pressão e temperatura do ambiente controlado recolhidos durante a experimentação para definir a melhor condição para os testes.\n",
        "\n",
        "Para cumprir com a demanda, você precisa criar uma função divide_colunas que recebe os dados das colunas de pressão e temperatura (que vem no formato de listas) e gerar uma nova coluna com o resultado da divisão. Os parâmetros da função são as duas listas e você deve tratar dentro dela ao menos 2 tipos de exceções:\n",
        "\n",
        "Verificar se as listas têm o mesmo tamanho (ValueError)\n",
        "Verificar se existe alguma divisão por zero (ZeroDivisionError)\n",
        "Para testar a função, vamos realizar a divisão entre duas listas de dados coletados no experimento, com os valores de pressão e temperatura do ambiente controlado.\n",
        "\n",
        "Como teste, use os seguintes dados:\n",
        "\n",
        "Dados sem exceção:"
      ],
      "metadata": {
        "id": "79R0weVOXJI_"
      }
    },
    {
      "cell_type": "code",
      "source": [
        "pressoes = [100, 120, 140, 160, 180]\n",
        "temperaturas = [20, 25, 30, 35, 40]"
      ],
      "metadata": {
        "id": "d7oLRe7MXKdY"
      },
      "execution_count": null,
      "outputs": []
    },
    {
      "cell_type": "markdown",
      "source": [
        "Dados com exceção:\n",
        "\n",
        "1) Exceção de ZeroDivisionError"
      ],
      "metadata": {
        "id": "2dmJOjyJXMPu"
      }
    },
    {
      "cell_type": "code",
      "source": [
        "pressoes = [60, 120, 140, 160, 180]\n",
        "temperaturas = [0, 25, 30, 35, 40]"
      ],
      "metadata": {
        "id": "aEaKomnJXSB_"
      },
      "execution_count": null,
      "outputs": []
    },
    {
      "cell_type": "markdown",
      "source": [
        "2) Exceção de ValueError"
      ],
      "metadata": {
        "id": "jdkTFYAjXTXk"
      }
    },
    {
      "cell_type": "code",
      "source": [
        "pressoes = [100, 120, 140, 160]\n",
        "temperaturas = [20, 25, 30, 35, 40]"
      ],
      "metadata": {
        "id": "jTkxvJbZXUNg"
      },
      "execution_count": null,
      "outputs": []
    },
    {
      "cell_type": "markdown",
      "source": [
        "Dica: Você pode usar zip() para parear os dados da lista_1 com a lista_2. Crie uma estrutura try-except que caso uma das exceções sejam lançadas, podemos ver o tipo de erro na saída."
      ],
      "metadata": {
        "id": "GNsNiuKlXW8F"
      }
    },
    {
      "cell_type": "code",
      "source": [],
      "metadata": {
        "id": "mvuXthR4XXzF"
      },
      "execution_count": null,
      "outputs": []
    }
  ]
}